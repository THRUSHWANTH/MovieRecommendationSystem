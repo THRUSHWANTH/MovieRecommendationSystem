{
 "cells": [
  {
   "cell_type": "markdown",
   "id": "5754ed08",
   "metadata": {},
   "source": [
    "### To find the simple recommenders \n"
   ]
  },
  {
   "cell_type": "code",
   "execution_count": 1,
   "id": "41dee87d",
   "metadata": {},
   "outputs": [
    {
     "data": {
      "text/plain": [
       "(45466, 24)"
      ]
     },
     "execution_count": 1,
     "metadata": {},
     "output_type": "execute_result"
    }
   ],
   "source": [
    "# First impport pandas and numpy library\n",
    "import pandas as pd\n",
    "import numpy as np\n",
    "#Read the movies meta data file\n",
    "\n",
    "metadata=pd.read_csv('movies_metadata.csv',low_memory=False)\n",
    "metadata.shape"
   ]
  },
  {
   "cell_type": "code",
   "execution_count": 2,
   "id": "332a795d",
   "metadata": {},
   "outputs": [
    {
     "data": {
      "text/plain": [
       "Index(['adult', 'belongs_to_collection', 'budget', 'genres', 'homepage', 'id',\n",
       "       'imdb_id', 'original_language', 'original_title', 'overview',\n",
       "       'popularity', 'poster_path', 'production_companies',\n",
       "       'production_countries', 'release_date', 'revenue', 'runtime',\n",
       "       'spoken_languages', 'status', 'tagline', 'title', 'video',\n",
       "       'vote_average', 'vote_count'],\n",
       "      dtype='object')"
      ]
     },
     "execution_count": 2,
     "metadata": {},
     "output_type": "execute_result"
    }
   ],
   "source": [
    "metadata.columns"
   ]
  },
  {
   "cell_type": "markdown",
   "id": "e2526fdc",
   "metadata": {},
   "source": [
    "Find the mean vote average "
   ]
  },
  {
   "cell_type": "code",
   "execution_count": 3,
   "id": "d394c1eb",
   "metadata": {},
   "outputs": [
    {
     "name": "stdout",
     "output_type": "stream",
     "text": [
      "5.618207215133889\n"
     ]
    }
   ],
   "source": [
    "C=metadata['vote_average'].mean()\n",
    "print(C)"
   ]
  },
  {
   "cell_type": "markdown",
   "id": "91801504",
   "metadata": {},
   "source": [
    "Calculate the minimum no of votes by setting the quantile as 80 percentile\n"
   ]
  },
  {
   "cell_type": "code",
   "execution_count": 4,
   "id": "21cabbbc",
   "metadata": {},
   "outputs": [
    {
     "name": "stdout",
     "output_type": "stream",
     "text": [
      "160.0\n"
     ]
    }
   ],
   "source": [
    "m=metadata['vote_count'].quantile(0.90)\n",
    "print(m)\n"
   ]
  },
  {
   "cell_type": "markdown",
   "id": "db4f5e6e",
   "metadata": {},
   "source": [
    "Find out all qualified movies"
   ]
  },
  {
   "cell_type": "code",
   "execution_count": 5,
   "id": "1d45c720",
   "metadata": {},
   "outputs": [
    {
     "data": {
      "text/plain": [
       "(4555, 24)"
      ]
     },
     "execution_count": 5,
     "metadata": {},
     "output_type": "execute_result"
    }
   ],
   "source": [
    "q_movies=metadata.copy().loc[metadata['vote_count']>=m]\n",
    "q_movies.shape"
   ]
  },
  {
   "cell_type": "markdown",
   "id": "048ed874",
   "metadata": {},
   "source": [
    "Now compute the function weighted rating of each movie"
   ]
  },
  {
   "cell_type": "code",
   "execution_count": 6,
   "id": "7c8ef921",
   "metadata": {},
   "outputs": [],
   "source": [
    "def weighed_rating(x,m=m,C=C):\n",
    "    v=x['vote_count']\n",
    "    R=x['vote_average']\n",
    "    #calculate imd formula\n",
    "    return (v/(v+m) *R)+(m/(m+v) * C)"
   ]
  },
  {
   "cell_type": "code",
   "execution_count": 7,
   "id": "a9546a98",
   "metadata": {},
   "outputs": [],
   "source": [
    "'''A new feature score is added by weighed_rating func to sort the movi\n",
    "es to recommend to the lay user'''\n",
    "q_movies['score']=q_movies.apply(weighed_rating,axis=1)"
   ]
  },
  {
   "cell_type": "code",
   "execution_count": 8,
   "id": "7c53671c",
   "metadata": {},
   "outputs": [
    {
     "data": {
      "text/plain": [
       "(4555, 25)"
      ]
     },
     "execution_count": 8,
     "metadata": {},
     "output_type": "execute_result"
    }
   ],
   "source": [
    "q_movies.shape"
   ]
  },
  {
   "cell_type": "code",
   "execution_count": 9,
   "id": "244fedf2",
   "metadata": {},
   "outputs": [],
   "source": [
    "# As you can see one extra column added\n",
    "q_movies=q_movies.sort_values('score',ascending=False)\n",
    "\n"
   ]
  },
  {
   "cell_type": "markdown",
   "id": "a14808d3",
   "metadata": {},
   "source": [
    "Finally to know the first ten recommened movies"
   ]
  },
  {
   "cell_type": "code",
   "execution_count": 10,
   "id": "b528b0c6",
   "metadata": {},
   "outputs": [
    {
     "data": {
      "text/plain": [
       "314         The Shawshank Redemption\n",
       "834                    The Godfather\n",
       "10309    Dilwale Dulhania Le Jayenge\n",
       "12481                The Dark Knight\n",
       "2843                      Fight Club\n",
       "292                     Pulp Fiction\n",
       "522                 Schindler's List\n",
       "23673                       Whiplash\n",
       "5481                   Spirited Away\n",
       "2211               Life Is Beautiful\n",
       "Name: title, dtype: object"
      ]
     },
     "execution_count": 10,
     "metadata": {},
     "output_type": "execute_result"
    }
   ],
   "source": [
    "q_movies['title'].head(10)"
   ]
  },
  {
   "cell_type": "code",
   "execution_count": 11,
   "id": "e12e35eb",
   "metadata": {},
   "outputs": [
    {
     "data": {
      "text/html": [
       "<div>\n",
       "<style scoped>\n",
       "    .dataframe tbody tr th:only-of-type {\n",
       "        vertical-align: middle;\n",
       "    }\n",
       "\n",
       "    .dataframe tbody tr th {\n",
       "        vertical-align: top;\n",
       "    }\n",
       "\n",
       "    .dataframe thead th {\n",
       "        text-align: right;\n",
       "    }\n",
       "</style>\n",
       "<table border=\"1\" class=\"dataframe\">\n",
       "  <thead>\n",
       "    <tr style=\"text-align: right;\">\n",
       "      <th></th>\n",
       "      <th>title</th>\n",
       "      <th>score</th>\n",
       "    </tr>\n",
       "  </thead>\n",
       "  <tbody>\n",
       "    <tr>\n",
       "      <th>314</th>\n",
       "      <td>The Shawshank Redemption</td>\n",
       "      <td>8.445869</td>\n",
       "    </tr>\n",
       "    <tr>\n",
       "      <th>834</th>\n",
       "      <td>The Godfather</td>\n",
       "      <td>8.425439</td>\n",
       "    </tr>\n",
       "    <tr>\n",
       "      <th>10309</th>\n",
       "      <td>Dilwale Dulhania Le Jayenge</td>\n",
       "      <td>8.421453</td>\n",
       "    </tr>\n",
       "    <tr>\n",
       "      <th>12481</th>\n",
       "      <td>The Dark Knight</td>\n",
       "      <td>8.265477</td>\n",
       "    </tr>\n",
       "    <tr>\n",
       "      <th>2843</th>\n",
       "      <td>Fight Club</td>\n",
       "      <td>8.256385</td>\n",
       "    </tr>\n",
       "    <tr>\n",
       "      <th>292</th>\n",
       "      <td>Pulp Fiction</td>\n",
       "      <td>8.251406</td>\n",
       "    </tr>\n",
       "    <tr>\n",
       "      <th>522</th>\n",
       "      <td>Schindler's List</td>\n",
       "      <td>8.206639</td>\n",
       "    </tr>\n",
       "    <tr>\n",
       "      <th>23673</th>\n",
       "      <td>Whiplash</td>\n",
       "      <td>8.205404</td>\n",
       "    </tr>\n",
       "    <tr>\n",
       "      <th>5481</th>\n",
       "      <td>Spirited Away</td>\n",
       "      <td>8.196055</td>\n",
       "    </tr>\n",
       "    <tr>\n",
       "      <th>2211</th>\n",
       "      <td>Life Is Beautiful</td>\n",
       "      <td>8.187171</td>\n",
       "    </tr>\n",
       "  </tbody>\n",
       "</table>\n",
       "</div>"
      ],
      "text/plain": [
       "                             title     score\n",
       "314       The Shawshank Redemption  8.445869\n",
       "834                  The Godfather  8.425439\n",
       "10309  Dilwale Dulhania Le Jayenge  8.421453\n",
       "12481              The Dark Knight  8.265477\n",
       "2843                    Fight Club  8.256385\n",
       "292                   Pulp Fiction  8.251406\n",
       "522               Schindler's List  8.206639\n",
       "23673                     Whiplash  8.205404\n",
       "5481                 Spirited Away  8.196055\n",
       "2211             Life Is Beautiful  8.187171"
      ]
     },
     "execution_count": 11,
     "metadata": {},
     "output_type": "execute_result"
    }
   ],
   "source": [
    "#Lets check the scores \n",
    "q_movies[['title','score']].head(10)"
   ]
  },
  {
   "cell_type": "code",
   "execution_count": null,
   "id": "b96d4cda",
   "metadata": {},
   "outputs": [],
   "source": []
  }
 ],
 "metadata": {
  "kernelspec": {
   "display_name": "Python 3",
   "language": "python",
   "name": "python3"
  },
  "language_info": {
   "codemirror_mode": {
    "name": "ipython",
    "version": 3
   },
   "file_extension": ".py",
   "mimetype": "text/x-python",
   "name": "python",
   "nbconvert_exporter": "python",
   "pygments_lexer": "ipython3",
   "version": "3.8.8"
  }
 },
 "nbformat": 4,
 "nbformat_minor": 5
}
